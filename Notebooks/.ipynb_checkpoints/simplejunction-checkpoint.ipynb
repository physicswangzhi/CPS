{
 "cells": [
  {
   "cell_type": "markdown",
   "metadata": {
    "slideshow": {
     "slide_type": "slide"
    }
   },
   "source": [
    "# Simple Junction: {\\it Matsubara Formalism}"
   ]
  },
  {
   "cell_type": "markdown",
   "metadata": {
    "slideshow": {
     "slide_type": "slide"
    }
   },
   "source": [
    "First we consider tunneling current in the textbok. First, we repeat his derivation following Mahan's Book, in **page 85, page 207 and page 789**. The Hamiltonian of the junction writes as,\n",
    "$$\n",
    "H=H_{R}+H_L+H_T=H_0+H_T\n",
    "$$"
   ]
  },
  {
   "cell_type": "markdown",
   "metadata": {},
   "source": [
    "with the Hamiltonians for the left side,\n",
    "$$\n",
    "\\begin{align}\n",
    "H_R =\\sum_{\\sigma,{\\bf k}} \\xi_{\\bf k} c^{\\dagger}_{\\sigma,{\\bf\n",
    "k}}c_{\\sigma,{\\bf k}}+\\sum_{{\\bf k}} \\Delta_R ( c^{\\dagger}_{{\\bf\n",
    "k},\\uparrow}c^{\\dagger}_{{\\bf -k},\\downarrow}+ c_{{\\bf\n",
    "k},\\downarrow} c_{{\\bf -k},\\uparrow})\n",
    "\\end{align}\n",
    "$$\n",
    "the right side\n",
    "$$\n",
    "\\begin{align}\n",
    "H_L=\\sum_{\\sigma,{\\bf p}}\\xi_{\\bf p} d^{\\dagger}_{\\sigma,{\\bf\n",
    "p}}d_{\\sigma,{\\bf p}}+\\sum_{{\\bf p}}\n",
    "\\Delta_L (d^{\\dagger}_{{\\bf p},\\uparrow}d^{\\dagger}_{{\\bf -p},\\downarrow} + d_{{\\bf p},\\downarrow}d_{{\\bf -p},\\uparrow})\n",
    "\\end{align}\n",
    "$$"
   ]
  },
  {
   "cell_type": "code",
   "execution_count": null,
   "metadata": {
    "collapsed": true
   },
   "outputs": [],
   "source": []
  }
 ],
 "metadata": {
  "anaconda-cloud": {},
  "celltoolbar": "Slideshow",
  "kernelspec": {
   "display_name": "Python 3",
   "language": "python",
   "name": "python3"
  },
  "language_info": {
   "codemirror_mode": {
    "name": "ipython",
    "version": 3
   },
   "file_extension": ".py",
   "mimetype": "text/x-python",
   "name": "python",
   "nbconvert_exporter": "python",
   "pygments_lexer": "ipython3",
   "version": "3.5.2"
  }
 },
 "nbformat": 4,
 "nbformat_minor": 1
}
